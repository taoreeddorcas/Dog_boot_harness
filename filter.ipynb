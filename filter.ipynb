{
 "cells": [
  {
   "cell_type": "code",
   "execution_count": 14,
   "id": "980b7b0f",
   "metadata": {},
   "outputs": [
    {
     "name": "stdout",
     "output_type": "stream",
     "text": [
      "--2025-06-10 13:43:23--  https://raw.githubusercontent.com/MicrosoftDocs/mslearn-introduction-to-machine-learning/main/graphing.py\n",
      "Resolving raw.githubusercontent.com (raw.githubusercontent.com)... 185.199.111.133, 185.199.108.133, 185.199.109.133, ...\n",
      "Connecting to raw.githubusercontent.com (raw.githubusercontent.com)|185.199.111.133|:443... connected.\n",
      "HTTP request sent, awaiting response... 200 OK\n",
      "Length: 21511 (21K) [text/plain]\n",
      "Saving to: ‘graphing.py.2’\n",
      "\n",
      "graphing.py.2       100%[===================>]  21.01K  --.-KB/s    in 0s      \n",
      "\n",
      "2025-06-10 13:43:23 (94.3 MB/s) - ‘graphing.py.2’ saved [21511/21511]\n",
      "\n",
      "--2025-06-10 13:43:23--  https://raw.githubusercontent.com/MicrosoftDocs/mslearn-introduction-to-machine-learning/main/Data/doggy-boot-harness.csv\n",
      "Resolving raw.githubusercontent.com (raw.githubusercontent.com)... 185.199.108.133, 185.199.109.133, 185.199.111.133, ...\n",
      "Connecting to raw.githubusercontent.com (raw.githubusercontent.com)|185.199.108.133|:443... connected.\n",
      "HTTP request sent, awaiting response... 200 OK\n",
      "Length: 838 [text/plain]\n",
      "Saving to: ‘doggy-boot-harness.csv.2’\n",
      "\n",
      "doggy-boot-harness. 100%[===================>]     838  --.-KB/s    in 0s      \n",
      "\n",
      "2025-06-10 13:43:23 (68.8 MB/s) - ‘doggy-boot-harness.csv.2’ saved [838/838]\n",
      "\n"
     ]
    },
    {
     "data": {
      "text/html": [
       "<div>\n",
       "<style scoped>\n",
       "    .dataframe tbody tr th:only-of-type {\n",
       "        vertical-align: middle;\n",
       "    }\n",
       "\n",
       "    .dataframe tbody tr th {\n",
       "        vertical-align: top;\n",
       "    }\n",
       "\n",
       "    .dataframe thead th {\n",
       "        text-align: right;\n",
       "    }\n",
       "</style>\n",
       "<table border=\"1\" class=\"dataframe\">\n",
       "  <thead>\n",
       "    <tr style=\"text-align: right;\">\n",
       "      <th></th>\n",
       "      <th>boot_size</th>\n",
       "      <th>harness_size</th>\n",
       "      <th>sex</th>\n",
       "      <th>age_years</th>\n",
       "    </tr>\n",
       "  </thead>\n",
       "  <tbody>\n",
       "    <tr>\n",
       "      <th>0</th>\n",
       "      <td>39</td>\n",
       "      <td>58</td>\n",
       "      <td>male</td>\n",
       "      <td>12.0</td>\n",
       "    </tr>\n",
       "    <tr>\n",
       "      <th>1</th>\n",
       "      <td>38</td>\n",
       "      <td>58</td>\n",
       "      <td>male</td>\n",
       "      <td>9.6</td>\n",
       "    </tr>\n",
       "    <tr>\n",
       "      <th>2</th>\n",
       "      <td>37</td>\n",
       "      <td>52</td>\n",
       "      <td>female</td>\n",
       "      <td>8.6</td>\n",
       "    </tr>\n",
       "    <tr>\n",
       "      <th>3</th>\n",
       "      <td>39</td>\n",
       "      <td>58</td>\n",
       "      <td>male</td>\n",
       "      <td>10.2</td>\n",
       "    </tr>\n",
       "    <tr>\n",
       "      <th>4</th>\n",
       "      <td>38</td>\n",
       "      <td>57</td>\n",
       "      <td>male</td>\n",
       "      <td>7.8</td>\n",
       "    </tr>\n",
       "  </tbody>\n",
       "</table>\n",
       "</div>"
      ],
      "text/plain": [
       "   boot_size  harness_size     sex  age_years\n",
       "0         39            58    male       12.0\n",
       "1         38            58    male        9.6\n",
       "2         37            52  female        8.6\n",
       "3         39            58    male       10.2\n",
       "4         38            57    male        7.8"
      ]
     },
     "execution_count": 14,
     "metadata": {},
     "output_type": "execute_result"
    }
   ],
   "source": [
    "import pandas\n",
    "import statsmodels.formula.api as smf\n",
    "import matplotlib.pyplot as plt\n",
    "\n",
    "!wget https://raw.githubusercontent.com/MicrosoftDocs/mslearn-introduction-to-machine-learning/main/graphing.py\n",
    "!wget https://raw.githubusercontent.com/MicrosoftDocs/mslearn-introduction-to-machine-learning/main/Data/doggy-boot-harness.csv\n",
    "\n",
    "# Read the text file containing data using pandas\n",
    "dataset = pandas.read_csv('doggy-boot-harness.csv')\n",
    "\n",
    "# Print the data\n",
    "# Because there are a lot of data, use head() to only print the first few rows\n",
    "dataset.head()"
   ]
  },
  {
   "cell_type": "code",
   "execution_count": 10,
   "id": "3107ba59",
   "metadata": {},
   "outputs": [
    {
     "name": "stdout",
     "output_type": "stream",
     "text": [
      "Harness sizes\n",
      "0     58\n",
      "1     58\n",
      "2     52\n",
      "3     58\n",
      "4     57\n",
      "5     52\n",
      "6     55\n",
      "7     53\n",
      "8     49\n",
      "9     54\n",
      "10    59\n",
      "11    56\n",
      "12    53\n",
      "13    58\n",
      "14    57\n",
      "15    58\n",
      "16    56\n",
      "17    51\n",
      "18    50\n",
      "19    59\n",
      "20    59\n",
      "21    59\n",
      "22    55\n",
      "23    50\n",
      "24    55\n",
      "25    52\n",
      "26    53\n",
      "27    54\n",
      "28    61\n",
      "29    56\n",
      "30    55\n",
      "31    60\n",
      "32    57\n",
      "33    56\n",
      "34    61\n",
      "35    58\n",
      "36    53\n",
      "37    57\n",
      "38    57\n",
      "39    55\n",
      "40    60\n",
      "41    51\n",
      "42    52\n",
      "43    56\n",
      "44    55\n",
      "45    57\n",
      "46    58\n",
      "47    57\n",
      "48    51\n",
      "49    59\n",
      "Name: harness_size, dtype: int64\n",
      "\n",
      "Available columns after deleting sex and age information:\n",
      "['boot_size' 'harness_size']\n"
     ]
    }
   ],
   "source": [
    "# Look at the harness sizes\n",
    "print(\"Harness sizes\")\n",
    "print(dataset.harness_size)\n",
    "\n",
    "# Remove the sex and age-in-years columns.\n",
    "del dataset[\"sex\"]\n",
    "del dataset[\"age_years\"]\n",
    "\n",
    "# Print the column names\n",
    "print(\"\\nAvailable columns after deleting sex and age information:\")\n",
    "print(dataset.columns.values)"
   ]
  },
  {
   "cell_type": "code",
   "execution_count": 11,
   "id": "25a6e7e5",
   "metadata": {},
   "outputs": [
    {
     "name": "stdout",
     "output_type": "stream",
     "text": [
      "TOP OF TABLE\n",
      "   boot_size  harness_size\n",
      "0         39            58\n",
      "1         38            58\n",
      "2         37            52\n",
      "3         39            58\n",
      "4         38            57\n",
      "\n",
      "BOTTOM OF TABLE\n",
      "    boot_size  harness_size\n",
      "45         41            57\n",
      "46         39            58\n",
      "47         39            57\n",
      "48         35            51\n",
      "49         39            59\n"
     ]
    }
   ],
   "source": [
    "# Print the data at the top of the table\n",
    "print(\"TOP OF TABLE\")\n",
    "print(dataset.head())\n",
    "\n",
    "# print the data at the bottom of the table\n",
    "print(\"\\nBOTTOM OF TABLE\")\n",
    "print(dataset.tail())"
   ]
  },
  {
   "cell_type": "code",
   "execution_count": null,
   "id": "faa7d2ca",
   "metadata": {},
   "outputs": [
    {
     "name": "stdout",
     "output_type": "stream",
     "text": [
      "Model selected but it does not have parameters set. We need to train it!\n"
     ]
    }
   ],
   "source": [
    "# Load a library to do the hard work for us\n",
    "# define the formula using a special syntax\n",
    "# boot_size is explained by harness_size\n",
    "formula = \"boot_size ~ harness_size\"\n",
    "\n",
    "# Create the model, but not train it yet\n",
    "model = smf.ols(formula = formula, data = dataset)\n",
    "\n",
    "# created the model but it does not \n",
    "# have internal parameters set yet\n",
    "if not hasattr(model, 'params'):\n",
    "    print(\"Model selected but it does not have parameters set. We need to train it!\")"
   ]
  },
  {
   "cell_type": "code",
   "execution_count": 13,
   "id": "95f7d85b",
   "metadata": {},
   "outputs": [
    {
     "name": "stdout",
     "output_type": "stream",
     "text": [
      "The following model parameters have been found:\n",
      "Line slope: 0.585925416738271\n",
      "Line Intercept: 5.71910981268259\n"
     ]
    },
    {
     "name": "stderr",
     "output_type": "stream",
     "text": [
      "/tmp/ipykernel_8002/1802093943.py:5: FutureWarning: Series.__getitem__ treating keys as positions is deprecated. In a future version, integer keys will always be treated as labels (consistent with DataFrame behavior). To access a value by position, use `ser.iloc[pos]`\n",
      "  f\"Line slope: {fitted_model.params[1]}\\n\"+\n",
      "/tmp/ipykernel_8002/1802093943.py:6: FutureWarning: Series.__getitem__ treating keys as positions is deprecated. In a future version, integer keys will always be treated as labels (consistent with DataFrame behavior). To access a value by position, use `ser.iloc[pos]`\n",
      "  f\"Line Intercept: {fitted_model.params[0]}\")\n"
     ]
    }
   ],
   "source": [
    "fitted_model = model.fit()\n",
    "\n",
    "# Print information about our model now it has been fit\n",
    "print(\"The following model parameters have been found:\\n\" +\n",
    "        f\"Line slope: {fitted_model.params[1]}\\n\"+\n",
    "        f\"Line Intercept: {fitted_model.params[0]}\")"
   ]
  },
  {
   "cell_type": "code",
   "execution_count": null,
   "id": "50f7d221",
   "metadata": {},
   "outputs": [],
   "source": []
  },
  {
   "cell_type": "code",
   "execution_count": null,
   "id": "8bd9542f",
   "metadata": {},
   "outputs": [],
   "source": []
  },
  {
   "cell_type": "code",
   "execution_count": null,
   "id": "41916367",
   "metadata": {},
   "outputs": [],
   "source": []
  }
 ],
 "metadata": {
  "kernelspec": {
   "display_name": "Python 3",
   "language": "python",
   "name": "python3"
  },
  "language_info": {
   "codemirror_mode": {
    "name": "ipython",
    "version": 3
   },
   "file_extension": ".py",
   "mimetype": "text/x-python",
   "name": "python",
   "nbconvert_exporter": "python",
   "pygments_lexer": "ipython3",
   "version": "3.12.1"
  }
 },
 "nbformat": 4,
 "nbformat_minor": 5
}
